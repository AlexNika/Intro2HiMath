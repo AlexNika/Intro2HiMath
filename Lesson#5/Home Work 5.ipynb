{
 "cells": [
  {
   "cell_type": "code",
   "execution_count": 147,
   "metadata": {},
   "outputs": [],
   "source": [
    "import math\n",
    "import numpy as np\n",
    "import matplotlib.pyplot as plt\n",
    "import itertools\n",
    "%matplotlib inline\n",
    "import warnings"
   ]
  },
  {
   "cell_type": "markdown",
   "metadata": {},
   "source": [
    "## Тема “Элементы теории вероятностей”"
   ]
  },
  {
   "cell_type": "markdown",
   "metadata": {},
   "source": [
    "**Задание №1**"
   ]
  },
  {
   "cell_type": "markdown",
   "metadata": {},
   "source": [
    "Напишите код, моделирующий выпадение поля в рулетке (с учетом поля зеро)."
   ]
  },
  {
   "cell_type": "code",
   "execution_count": 148,
   "metadata": {},
   "outputs": [],
   "source": [
    "warnings.filterwarnings(\"ignore\")\n",
    "def pause():\n",
    "    programPause = input('Press the <ENTER> key to continue...')"
   ]
  },
  {
   "cell_type": "code",
   "execution_count": 23,
   "metadata": {},
   "outputs": [
    {
     "name": "stdout",
     "output_type": "stream",
     "text": [
      "Press the <ENTER> key to continue...\n",
      "Рулетка крутится...\n",
      "Цифра - 13\n",
      "Шарик выпал на черное поле\n",
      "Шарик выпал на нечетное\n",
      "\n",
      "Press the <ENTER> key to continue...\n",
      "Рулетка крутится...\n",
      "Цифра - 16\n",
      "Шарик выпал на красное поле\n",
      "Шарик выпал на четное\n",
      "\n",
      "Press the <ENTER> key to continue...\n",
      "Рулетка крутится...\n",
      "Цифра - 9\n",
      "Шарик выпал на красное поле\n",
      "Шарик выпал на нечетное\n",
      "\n",
      "Press the <ENTER> key to continue...\n",
      "Рулетка крутится...\n",
      "Цифра - 0\n",
      "Шарик выпал на ZERO!!!\n",
      "\n",
      "Press the <ENTER> key to continue...\n",
      "Рулетка крутится...\n",
      "Цифра - 25\n",
      "Шарик выпал на красное поле\n",
      "Шарик выпал на нечетное\n",
      "\n"
     ]
    }
   ],
   "source": [
    "redn = [1, 3, 5, 7, 9, 12, 14, 16, 18, 19, 21, 23, 25, 27, 30, 32, 34, 36]\n",
    "blackn = [2, 4, 6, 8, 10, 11, 13, 15, 17, 20, 22, 24, 26, 28, 29, 31, 33, 35]\n",
    "for i in range(0, 5):\n",
    "    pause()\n",
    "    rn = np.random.randint(0,36)\n",
    "    even_or_odd = rn % 2\n",
    "    print('Рулетка крутится...')\n",
    "    print(f'Цифра - {rn}')\n",
    "    if rn == 0:\n",
    "        print('Шарик выпал на ZERO!!!')\n",
    "    if rn in redn:\n",
    "        print('Шарик выпал на красное поле')\n",
    "    if rn in blackn:\n",
    "        print('Шарик выпал на черное поле')\n",
    "    if rn != 0 and even_or_odd == 0:\n",
    "        print('Шарик выпал на четное')\n",
    "    if rn != 0 and even_or_odd == 1:\n",
    "        print('Шарик выпал на нечетное')\n",
    "    print()"
   ]
  },
  {
   "cell_type": "markdown",
   "metadata": {},
   "source": [
    "**Задание №2**"
   ]
  },
  {
   "cell_type": "markdown",
   "metadata": {},
   "source": [
    "2.1 Напишите код, проверяющий любую из теорем сложения или умножения вероятности на примере рулетки\n",
    "\n",
    "**КАКОВА ВЕРОЯТНОСТЬ ВЫПАДЕНИЯ ZERO 2 РАЗА ПОДРЯД?**"
   ]
  },
  {
   "cell_type": "code",
   "execution_count": 126,
   "metadata": {},
   "outputs": [
    {
     "name": "stdout",
     "output_type": "stream",
     "text": [
      "Расчет: при 10000000 бросков шарика, ZERO должно выпасть 270270 раз\n",
      "Эксперимент: при 10000000 бросков шарика, ZERO выпало 277487 раз\n",
      "Расчет: при 10000000 бросков шарика, ZERO должно выпасть 2 раза подряд 7305 раз\n",
      "Эксперимент: при 10000000 бросков шарика, ZERO выпало 2 раза подряд 7841 раз\n"
     ]
    }
   ],
   "source": [
    "n = 10000000\n",
    "zero_prev = 0\n",
    "real_zero_times = 0\n",
    "real_zero_times2 = 0\n",
    "calc_zero_times = n * 1 / 37\n",
    "calc_zero_times2 = n * (1 / 37) * (1 / 37)\n",
    "for i in range(0, n):\n",
    "    rn = np.random.randint(0,36)\n",
    "    if rn == 0:\n",
    "        real_zero_times += 1\n",
    "        if zero_prev == 1:\n",
    "            real_zero_times2 += 1\n",
    "        zero_prev = 1\n",
    "    else: \n",
    "        zero_prev = 0\n",
    "print(f'Расчет: при {n} бросков шарика, ZERO должно выпасть {calc_zero_times:.0f} раз')\n",
    "print(f'Эксперимент: при {n} бросков шарика, ZERO выпало {real_zero_times} раз')\n",
    "print(f'Расчет: при {n} бросков шарика, ZERO должно выпасть 2 раза подряд {calc_zero_times2:.0f} раз')\n",
    "print(f'Эксперимент: при {n} бросков шарика, ZERO выпало 2 раза подряд {real_zero_times2} раз')"
   ]
  },
  {
   "cell_type": "markdown",
   "metadata": {},
   "source": [
    "**при увеличении числа экспериментов, результат будет стремится к расчетному значению**"
   ]
  },
  {
   "cell_type": "markdown",
   "metadata": {},
   "source": [
    "2.2 Сгенерируйте десять выборок случайных чисел х0, …, х9.\n",
    "и постройте гистограмму распределения случайной суммы х0+х1+ …+ х9"
   ]
  },
  {
   "cell_type": "code",
   "execution_count": 103,
   "metadata": {
    "scrolled": true
   },
   "outputs": [
    {
     "data": {
      "image/png": "[encoded data removed]",
      "text/plain": [
       "<Figure size 432x288 with 1 Axes>"
      ]
     },
     "metadata": {
      "needs_background": "light"
     },
     "output_type": "display_data"
    }
   ],
   "source": [
    "n = 1000\n",
    "x = []\n",
    "xsum = []\n",
    "for i in range(0, n):\n",
    "    x = np.random.rand(n)\n",
    "    xsum.append(np.sum(x))\n",
    "n_bins = 5\n",
    "n, bins, patches = plt.hist(xsum, n_bins)\n",
    "plt.xlabel('xsum')\n",
    "plt.ylabel('Вероятность')\n",
    "plt.title('Гистограмма вероятности')\n",
    "plt.show()"
   ]
  },
  {
   "cell_type": "markdown",
   "metadata": {},
   "source": [
    "**Задание №3**"
   ]
  },
  {
   "cell_type": "markdown",
   "metadata": {},
   "source": [
    "3.1 Дополните код Монте-Карло последовательности независимых испытаний расчетом соответствующих вероятностей (через биномиальное распределение) и сравните результаты."
   ]
  },
  {
   "cell_type": "code",
   "execution_count": 115,
   "metadata": {},
   "outputs": [
    {
     "name": "stdout",
     "output_type": "stream",
     "text": [
      "375067 1000000 0.375067\n",
      "Биномиальный коэффициент будет = 6.0\n",
      "Тогда вероятность 2-х успешных экспериментов подряд будет = cnk / 2^n = 0.375\n"
     ]
    }
   ],
   "source": [
    "k, n = 0, 1000000\n",
    "a = np.random.randint(0, 2, n)\n",
    "b = np.random.randint(0, 2, n)\n",
    "c = np.random.randint(0, 2, n)\n",
    "d = np.random.randint(0, 2, n)\n",
    "x = a + b + c + d\n",
    "for i in range(0, n):\n",
    "    if x[i] == 2:\n",
    "        k = k + 1\n",
    "print(k, n, k/n)\n",
    "cnk = math.factorial(4) / (math.factorial(4 - 2) * math.factorial(2))\n",
    "print(f'Биномиальный коэффициент будет = {cnk}')\n",
    "print(f'Вероятность 2-х успешных экспериментов подряд будет = cnk / 2^n = {cnk / 2**4}')"
   ]
  },
  {
   "cell_type": "markdown",
   "metadata": {},
   "source": [
    "3.2 Повторите расчеты биномиальных коэффициентов и вероятностей k успехов в последовательности из n независимых испытаний, взяв другие значения n и k."
   ]
  },
  {
   "cell_type": "markdown",
   "metadata": {},
   "source": [
    "**n = 4, k = 3**"
   ]
  },
  {
   "cell_type": "code",
   "execution_count": 131,
   "metadata": {},
   "outputs": [
    {
     "name": "stdout",
     "output_type": "stream",
     "text": [
      "Биномиальный коэффициент будет = 4.0\n",
      "Вероятность 3 успешных экспериментов подряд будет = cnk / 2^n = 0.25\n"
     ]
    }
   ],
   "source": [
    "k, n = 3, 4\n",
    "cnk = math.factorial(n) / (math.factorial(n - k) * math.factorial(k))\n",
    "print(f'Биномиальный коэффициент будет = {cnk}')\n",
    "print(f'Вероятность {k} успешных экспериментов подряд будет = cnk / 2^n = {cnk / 2**n}')"
   ]
  },
  {
   "cell_type": "markdown",
   "metadata": {},
   "source": [
    "**Задание №4**"
   ]
  },
  {
   "cell_type": "markdown",
   "metadata": {},
   "source": [
    "Из урока по комбинаторике повторите расчеты, сгенерировав возможные варианты перестановок для других значений n и k"
   ]
  },
  {
   "cell_type": "code",
   "execution_count": 145,
   "metadata": {},
   "outputs": [
    {
     "name": "stdout",
     "output_type": "stream",
     "text": [
      "Количество возможных вариантов перестановок для n = 5 и k = 3 будет = 60\n",
      "\n",
      "012 013 014 021 023 024 031 032 034 041 042 043 102 103 104 120 123 124 130 132 134 140 142 143 201 203 204 210 213 214 230 231 234 240 241 243 301 302 304 310 312 314 320 321 324 340 341 342 401 402 403 410 412 413 420 421 423 430 431 432\n"
     ]
    }
   ],
   "source": [
    "k, n = 3, '01234'\n",
    "a = []\n",
    "for p in itertools.permutations(n, k):\n",
    "    p = ''.join(p)\n",
    "    a.append(p)\n",
    "print(f'Количество возможных вариантов перестановок для n = 5 и k = 3 будет = {len(a)}')\n",
    "print()\n",
    "print(*a)"
   ]
  },
  {
   "cell_type": "markdown",
   "metadata": {},
   "source": [
    "**Задание №5**"
   ]
  },
  {
   "cell_type": "markdown",
   "metadata": {},
   "source": [
    "Дополните код расчетом коэффициента корреляции x и y по формуле\n",
    "![Формула](https://lh4.googleusercontent.com/vvWkqXCHOFe1kMQAGK11czWpsabfObngrbCCbMZsLh5HkM8psheOFRq5K2XX508OlFQB7Ezy9J-NLfbfOOo_4gcNIftnGR64Qn3SFTIm8uly8eogpDEpE1bVEC4s9KAqKDvXVNsX)"
   ]
  },
  {
   "cell_type": "code",
   "execution_count": 164,
   "metadata": {},
   "outputs": [
    {
     "name": "stdout",
     "output_type": "stream",
     "text": [
      "0.6883422803150306 0.1602579628213833\n",
      "0.6883422803150309 0.160257962821383\n"
     ]
    },
    {
     "data": {
      "image/png": "[encoded data removed]",
      "text/plain": [
       "<Figure size 432x288 with 1 Axes>"
      ]
     },
     "metadata": {
      "needs_background": "light"
     },
     "output_type": "display_data"
    },
    {
     "name": "stdout",
     "output_type": "stream",
     "text": [
      "Коэффициент корреляции рассчитанный по формуле = 0.90054804\n",
      "Коэффициент корреляции рассчитанный с помощью numpy = \n",
      " [[1.         0.90054804]\n",
      " [0.90054804 1.        ]]\n"
     ]
    }
   ],
   "source": [
    "n = 100\n",
    "r = 0.7\n",
    "x = np.random.rand(n)\n",
    "y = r*x + (1 - r)*np.random.rand(n)\n",
    "plt.plot(x, y, 'o')\n",
    "plt.xlabel('x')\n",
    "plt.ylabel('y')\n",
    "plt.grid(True)\n",
    "\n",
    "a = (np.sum(x)*np.sum(y) - n*np.sum(x*y))/(np.sum(x)*np.sum(x) - n*np.sum(x*x))\n",
    "b = (np.sum(y) - a*np.sum(x))/n\n",
    "\n",
    "A = np.vstack([x, np.ones(len(x))]).T\n",
    "a1, b1 = np.linalg.lstsq(A, y)[0]\n",
    "\n",
    "print(a, b)\n",
    "print(a1, b1)\n",
    "plt.plot([0, 1], [b, a + b])\n",
    "plt.show()\n",
    "\n",
    "xmean = np.mean(x)\n",
    "ymean = np.mean(y)\n",
    "\n",
    "k = (np.sum((x - xmean) * (y - ymean))) / (np.sqrt(np.sum((x - xmean)**2) * np.sum((y - ymean)**2)))\n",
    "k1 = np.corrcoef(x, y)\n",
    "\n",
    "print(f'Коэффициент корреляции рассчитанный по формуле = {k:.8f}')\n",
    "print(f'Коэффициент корреляции рассчитанный с помощью numpy = \\n {k1}')\n"
   ]
  },
  {
   "cell_type": "code",
   "execution_count": null,
   "metadata": {},
   "outputs": [],
   "source": []
  }
 ],
 "metadata": {
  "kernelspec": {
   "display_name": "Python 3",
   "language": "python",
   "name": "python3"
  },
  "language_info": {
   "codemirror_mode": {
    "name": "ipython",
    "version": 3
   },
   "file_extension": ".py",
   "mimetype": "text/x-python",
   "name": "python",
   "nbconvert_exporter": "python",
   "pygments_lexer": "ipython3",
   "version": "3.7.2"
  }
 },
 "nbformat": 4,
 "nbformat_minor": 2
}
